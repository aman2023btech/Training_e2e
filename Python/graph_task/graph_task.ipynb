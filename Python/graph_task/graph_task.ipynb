{
  "cells": [
    {
      "cell_type": "code",
      "execution_count": 6,
      "metadata": {
        "colab": {
          "base_uri": "https://localhost:8080/",
          "height": 281
        },
        "id": "TUANmWPEsh5U",
        "outputId": "ebde3685-ffb5-4ae5-8643-03dcbd8c404a"
      },
      "outputs": [
        {
          "data": {
            "image/png": "[encoded data removed]",
            "text/plain": [
              "<Figure size 432x288 with 1 Axes>"
            ]
          },
          "metadata": {
            "needs_background": "light"
          },
          "output_type": "display_data"
        }
      ],
      "source": [
        "import matplotlib.pyplot as plt\n",
        "import csv\n",
        "\n",
        "dist={}\n",
        "upper={}\n",
        "lower={}\n",
        "secondary={}\n",
        "model={}\n",
        "\n",
        "with open(\"/content/primaryschool - primaryschool.csv\") as file:\n",
        "    csvreader= csv.reader(file);\n",
        "    for row in csvreader:\n",
        "      if(row[8]!=\"district_name\"):\n",
        "        dist[row[8]] = dist.get(row[8], 0) + 1\n",
        "        if(row[4]==\"Upper Primary\"):\n",
        "          upper[row[8]] = upper.get(row[8], 0) + 1\n",
        "        if(row[4]==\"Lower Primary\"):\n",
        "          lower[row[8]] = lower.get(row[8], 0) + 1\n",
        "        if(row[4]==\"Model Primary\"):\n",
        "          model[row[8]] = model.get(row[8], 0) + 1\n",
        "        if(row[4]==\"Secondary\"):\n",
        "          secondary[row[8]] = secondary.get(row[8], 0) + 1\n",
        "        \n",
        "# print(dist);\n",
        "# print(upper);\n",
        "# print(lower);\n",
        "# print(model);\n",
        "# print(secondary);\n",
        "\n",
        "# fig, ax = plt.subplots()\n",
        "\n",
        "# ax.bar(labels, men_means, width, yerr=men_std, label='Men')\n",
        "# ax.bar(labels, women_means, width, yerr=women_std, bottom=men_means,\n",
        "#        label='Women')\n",
        "\n",
        "# ax.set_ylabel('Scores')\n",
        "# ax.set_title('Scores by group and gender')\n",
        "# ax.legend()\n",
        "\n",
        "# plt.show()\n",
        "\n",
        "dist1=[];\n",
        "upper1=[]\n",
        "lower1=[]\n",
        "secondary1=[]\n",
        "model1=[]\n",
        "for state, capital in dist.items():\n",
        "    dist1.append(state);\n",
        "\n",
        "for item in dist1:\n",
        "  upper1.append(upper.setdefault(item, 0));\n",
        "  lower1.append(lower.setdefault(item, 0));\n",
        "  secondary1.append(secondary.setdefault(item, 0));\n",
        "  model1.append(model.setdefault(item, 0));\n",
        "\n",
        "# print(len(upper1));\n",
        "# print(len(lower1));\n",
        "# print(len(model1));\n",
        "\n",
        "\n",
        "fig, ax = plt.subplots()\n",
        "\n",
        "ax.bar(dist1, upper1, label='upper')\n",
        "ax.bar(dist1, lower1, label='lower')\n",
        "ax.bar(dist1, secondary1, label='secondary')\n",
        "ax.bar(dist1, model1, label='model')\n",
        "\n",
        "ax.set_ylabel('Schools');\n",
        "ax.set_title('Schools per District');\n",
        "ax.legend();\n",
        "\n",
        "plt.show();"
      ]
    },
    {
      "cell_type": "code",
      "execution_count": null,
      "metadata": {
        "colab": {
          "base_uri": "https://localhost:8080/",
          "height": 281
        },
        "id": "9fMHLjVlfJEU",
        "outputId": "4566d799-a927-4230-8838-1dff3b151ca7"
      },
      "outputs": [
        {
          "ename": "",
          "evalue": "",
          "output_type": "error",
          "traceback": [
            "\u001b[1;31mRunning cells with '/bin/python3' requires ipykernel package.\n",
            "\u001b[1;31mRun the following command to install 'ipykernel' into the Python environment. \n",
            "\u001b[1;31mCommand: '/bin/python3 -m pip install ipykernel -U --user --force-reinstall'"
          ]
        }
      ],
      "source": [
        "import matplotlib.pyplot as plt\n",
        "import csv\n",
        "\n",
        "\n",
        "# data collection/arrangement\n",
        "Years=[2008, 2009, 2010, 2011, 2012, 2013, 2014, 2015, 2016, 2017];\n",
        "i=0;\n",
        "Matches=[];\n",
        "while i<14 :\n",
        "  Matches.append([0, 0, 0, 0, 0, 0, 0, 0, 0, 0])\n",
        "  i=i+1\n",
        "Teams={\"Royal Challengers Bangalore\":0,\n",
        "  \"Rising Pune Supergiant\":1,\n",
        "  \"Kolkata Knight Riders\":2,\n",
        "  \"Kings XI Punjab\":3,\n",
        "  \"Delhi Daredevils\":4,\n",
        "  \"Sunrisers Hyderabad\":5,\n",
        "  \"Mumbai Indians\":6,\n",
        "  \"Gujarat Lions\":7,\n",
        "  \"Deccan Chargers\":8,\n",
        "  \"Chennai Super Kings\":9,\n",
        "  \"Rajasthan Royals\":10,\n",
        "  \"Kochi Tuskers Kerala\":11,\n",
        "  \"Pune Warriors\":12,\n",
        "  \"Rising Pune Supergiants\":13}\n",
        "\n",
        "with open(\"/content/matches - matches.csv\") as file:\n",
        "    csvreader= csv.reader(file);\n",
        "    for row in csvreader:\n",
        "      if(row[1]!=\"season\"):\n",
        "        Matches[Teams[row[4]]][int(row[1])-2008]=Matches[Teams[row[4]]][int(row[1])-2008]+1;\n",
        "        Matches[Teams[row[5]]][int(row[1])-2008]=Matches[Teams[row[5]]][int(row[1])-2008]+1;\n",
        "\n",
        "\n",
        "# graphing \n",
        "fig, ax = plt.subplots()\n",
        "width=0.3;\n",
        "\n",
        "for t in Teams:\n",
        "    # if(Teams[i]==14):\n",
        "    #                break\n",
        "    ax.bar(Years, Matches[Teams[t]], label=t);\n",
        "\n",
        "ax.set_ylabel('Number of matches per year');\n",
        "ax.set_title('Year');\n",
        "ax.legend();\n",
        "\n",
        "plt.show();"
      ]
    }
  ],
  "metadata": {
    "colab": {
      "provenance": []
    },
    "kernelspec": {
      "display_name": "Python 3",
      "language": "python",
      "name": "python3"
    },
    "language_info": {
      "name": "python",
      "version": "3.8.10 (default, Nov 14 2022, 12:59:47) \n[GCC 9.4.0]"
    },
    "vscode": {
      "interpreter": {
        "hash": "916dbcbb3f70747c44a77c7bcd40155683ae19c65e1c03b4aa3499c5328201f1"
      }
    }
  },
  "nbformat": 4,
  "nbformat_minor": 0
}
